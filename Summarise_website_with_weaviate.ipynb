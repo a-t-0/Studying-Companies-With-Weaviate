{
  "cells": [
    {
      "cell_type": "code",
      "execution_count": 6,
      "id": "fe4832c7-9abb-4d51-a881-cbc663f224d9",
      "metadata": {},
      "outputs": [],
      "source": [
        "\"\"\"This notebook downloads a website for you, puts it into a tree structure to \n",
        "give you a complete overview, and then asks weaviate to summarise each page.\n",
        "It assumes you have the prerquisites installed, (with the summarisation \n",
        "Weaviate docker running).\n",
        "\"\"\"\n",
        "## Import the used pip packages.\n",
        "import json\n",
        "import os\n",
        "from typing import List\n",
        "import networkx as nx\n",
        "\n",
        "\n",
        "## Import some backend functions that get the website data into Weaviate.\n",
        "from src.pythontemplate.frontend.visualize_summarised_website import (\n",
        "    create_mdbook,\n",
        ")\n",
        "from src.pythontemplate.get_website_data.website_to_graph import (\n",
        "    graph_to_json,\n",
        "    json_to_graph,\n",
        "    load_from_json,\n",
        "    website_to_graph,\n",
        ")\n",
        "from src.pythontemplate.load_json_into_weaviate.import_local_json import (\n",
        "    load_local_json_data_into_weaviate,\n",
        ")\n",
        "from src.pythontemplate.summarise_json import (\n",
        "    inject_summarisation_into_website_graph,\n",
        ")\n",
        "\n",
        "## Initialise parameters\n",
        "# Specify the page you want to study here:\n",
        "company_urls: List[str] = [\"https://trucol.io/\"]\n",
        "\n",
        "# specify output settings.\n",
        "website_data_path: str = \"website_data.json\"\n",
        "summarised_website_data_path: str = \"summarised_by_weaviate.json\"\n",
        "weaviate_local_host_url: str = \"http://localhost:8080\"\n",
        "md_book_path: str = \"frontend\"\n",
        "max_nr_of_queries: int = 3  # Used to prevent timeout error."
      ]
    },
    {
      "cell_type": "code",
      "execution_count": 7,
      "id": "f65fb79b-f795-485e-b78c-9c265ef77a65",
      "metadata": {},
      "outputs": [],
      "source": [
        "\"\"\"Get the website data and store it as a nx.graph.\"\"\"\n",
        "website_graph = nx.DiGraph()\n",
        "\n",
        "if not os.path.exists(website_data_path):\n",
        "    website_to_graph(\n",
        "        root_url=company_urls[0],\n",
        "        previous_url=company_urls[0],\n",
        "        new_url=company_urls[0],\n",
        "        website_graph=website_graph,\n",
        "    )\n",
        "    graph_to_json(G=website_graph, filepath=website_data_path)\n",
        "\n",
        "    # Ensure the json data is loaded into weaviate.\n",
        "    load_local_json_data_into_weaviate(\n",
        "        weaviate_local_host_url=weaviate_local_host_url,\n",
        "        json_input_path=website_data_path,\n",
        "        json_type=\"nodes\",\n",
        "        type_property=\"text_content\",\n",
        "    )\n",
        "else:\n",
        "    # Load the graph from the outputted json file.\n",
        "    website_graph = json_to_graph(filepath=website_data_path)\n"
      ]
    },
    {
      "cell_type": "code",
      "execution_count": 8,
      "id": "dcad11b5-cd69-4aa3-98dd-bf77513e553f",
      "metadata": {},
      "outputs": [],
      "source": [
        "\"\"\"Perform queries to Weaviate to summarise the data.\"\"\"\n",
        "\n",
        "# Specify the function that performs the Weaviate summarization call.\n",
        "def ask_weaviate_to_summarise(\n",
        "    *, weaviate_local_host_url: str, json_type: str, type_property: str\n",
        "):\n",
        "\n",
        "    # Connect with Weaviate.\n",
        "    client = weaviate.Client(weaviate_local_host_url)\n",
        "\n",
        "    # Perform a query that asks Weaviate to summarise the value of the \n",
        "    # type_property key.\n",
        "    result = client.query.get(\n",
        "        json_type, # this is the object in which the type_property is sought.\n",
        "        [\n",
        "            type_property,\n",
        "            (\n",
        "                '_additional { summary ( properties: [\"'\n",
        "                + type_property\n",
        "                + '\"]) { property result } }'\n",
        "            ),\n",
        "        ],\n",
        "    ).do()\n",
        "    return result\n",
        "\n",
        "# Get the summarised data from Weaviate.\n",
        "if not os.path.exists(summarised_website_data_path):\n",
        "    summarised_data = ask_weaviate_to_summarise(\n",
        "        weaviate_local_host_url=weaviate_local_host_url,\n",
        "        json_type=\"nodes\",\n",
        "        type_property=\"text_content\",\n",
        "    )\n",
        "    with open(summarised_website_data_path, \"w\") as f:\n",
        "        json.dump(\n",
        "            summarised_data, f, indent=4\n",
        "        )  # Add indentation for readability\n",
        "else:\n",
        "    summarised_data = load_from_json(filepath=summarised_website_data_path)\n"
      ]
    },
    {
      "cell_type": "code",
      "execution_count": 9,
      "id": "0d9ffbe3-527b-4f79-b85c-224a9b4523c8",
      "metadata": {},
      "outputs": [
        {
          "name": "stdout",
          "output_type": "stream",
          "text": [
            "file_path=frontend/https:__trucol.io_.md\n",
            "file_path=frontend/https:__trucol.io_protocol_.md\n",
            "file_path=frontend/https:__trucol.io_Usecases_.md\n",
            "file_path=frontend/https:__trucol.io_faq_.md\n",
            "file_path=frontend/https:__trucol.io_TruSec.md\n",
            "file_path=frontend/https:__trucol.io_about_.md\n",
            "file_path=frontend/https:__trucol.io_contact_.md\n"
          ]
        }
      ],
      "source": [
        "\"\"\"Add the weaviate summary into the website graph.\"\"\"\n",
        "inject_summarisation_into_website_graph(\n",
        "    data=summarised_data,\n",
        "    website_graph=website_graph,\n",
        "    max_nr_of_queries=max_nr_of_queries,\n",
        ")\n",
        "create_mdbook(\n",
        "    graph=website_graph, root=company_urls[0], output_dir=md_book_path\n",
        ")\n"
      ]
    },
    {
      "cell_type": "code",
      "execution_count": null,
      "id": "2ea235e8-f38d-4831-b319-9a6f87be28c6",
      "metadata": {},
      "outputs": [],
      "source": []
    },
    {
      "cell_type": "code",
      "execution_count": null,
      "id": "e48f89c8-a9a0-4dba-a17e-f3b7259c6345",
      "metadata": {},
      "outputs": [],
      "source": []
    }
  ],
  "metadata": {
    "kernelspec": {
      "display_name": "Python 3 (ipykernel)",
      "language": "python",
      "name": "python3"
    },
    "language_info": {
      "codemirror_mode": {
        "name": "ipython",
        "version": 3
      },
      "file_extension": ".py",
      "mimetype": "text/x-python",
      "name": "python",
      "nbconvert_exporter": "python",
      "pygments_lexer": "ipython3",
      "version": "3.12.3"
    }
  },
  "nbformat": 4,
  "nbformat_minor": 5
}
